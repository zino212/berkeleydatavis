{
 "cells": [
  {
   "cell_type": "code",
   "execution_count": 1,
   "id": "a9e0af08",
   "metadata": {},
   "outputs": [],
   "source": [
    "import pandas as pd\n",
    "import re\n",
    "import urllib3 as url\n",
    "import urllib\n",
    "import numpy as np\n",
    "import os\n",
    "import requests as req\n",
    "import csv\n",
    "from requests.utils import requote_uri\n",
    "from pathlib import Path\n",
    "http = url.PoolManager()"
   ]
  },
  {
   "cell_type": "code",
   "execution_count": 2,
   "id": "d6d65551",
   "metadata": {},
   "outputs": [],
   "source": [
    "def downloadCountries(listOfCountries):\n",
    "    for country in listOfCountries:\n",
    "        r = http.request('GET', requote_uri('berkeleyearth.lbl.gov/auto/Regional/TAVG/Text/' + country[0] + '-TAVG-Trend.txt'));\n",
    "        if  Path('data/' + country[0]+'.txt').is_file():\n",
    "            os.remove('data/' + country[0]+'.txt');\n",
    "        file = open('data/' + country[0]+'.txt', 'wb');\n",
    "        file.write(r.data);\n",
    "        file.close();"
   ]
  },
  {
   "cell_type": "code",
   "execution_count": 23,
   "id": "678ccdd2",
   "metadata": {},
   "outputs": [],
   "source": [
    "r = http.request('GET', 'http://berkeleyearth.lbl.gov/country-list')\n",
    "#countrytable = re.search('<table class=\"table table-condensed table-hover\">(.)</table>', str(r.data))\n",
    "countryList = np.array(re.findall('<tr><td><a href=\"http:\\/\\/berkeleyearth.lbl.gov\\/regions\\/(.+?)\">(.+?)<\\/td>\\s*?<td>.*?<\\/td><td>(<a href=\"http:\\/\\/berkeleyearth.lbl.gov\\/regions\\/.*?\">)?(.*?)<\\/td>', r.data.decode()))\n",
    "\n",
    "countryList = np.delete(countryList, np.where(countryList=='Saint Barthélemy')[0][0],axis=0)\n",
    "countryList = np.delete(countryList, np.where(countryList=='heard-island-and-mcdonald-islands')[0][0],axis=0)\n",
    "countryList = np.delete(countryList, np.where(countryList=='french-southern-and-antarctic-lands')[0][0],axis=0)\n",
    "countryList = np.delete(countryList, np.where(countryList=='Curaçao')[0][0],axis=0)\n",
    "countryList = np.delete(countryList, np.where(countryList==\"Côte d'Ivoire\")[0][0],axis=0)\n",
    "countryList = np.delete(countryList, np.where(countryList=='Antarctica')[0][0],axis=0)\n",
    "countryList = np.delete(countryList, np.where(countryList=='Åland')[0][0],axis=0)\n",
    "\n",
    "ix1 = np.where(countryList=='france')[0][0]\n",
    "ix2 = np.where(countryList=='france-(europe)')[0][0]\n",
    "save = countryList[ix2,3]\n",
    "countryList[ix2,3] = countryList[ix1,3]\n",
    "countryList[ix1,3] = save\n",
    "ix1 = np.where(countryList=='denmark')[0][0]\n",
    "ix2 = np.where(countryList=='denmark-(europe)')[0][0]\n",
    "save = countryList[ix2,3]\n",
    "countryList[ix2,3] = countryList[ix1,3]\n",
    "countryList[ix1,3] = save\n",
    "\n",
    "countryList[:,0]; # liste der Links\n",
    "countryList[:,1]; # liste der Namen der Länder\n",
    "continentList = countryList[:,3]; #liste der Kontinente der Länder\n",
    "\n",
    "with open('continents.txt', 'w') as f:\n",
    "    for i in range(101):\n",
    "        for continent in continentList:\n",
    "            f.write(continent)\n",
    "            f.write('\\n')\n",
    "\n",
    "#downloadCountries(countryList);"
   ]
  },
  {
   "cell_type": "code",
   "execution_count": 17,
   "id": "506ae5f1",
   "metadata": {},
   "outputs": [],
   "source": [
    "def loadCountry(file):\n",
    "    data = pd.read_csv(file, sep=\"\\s+\",engine='python', comment = \"%\", names=[\"Year\",\"Month\",\"Monthly Anomaly\",\"Monthly Uncertainty\",\"Annual Anomaly\",\"Annual Uncertainty\",\"Five-year Anomaly\",\"Five-year Uncertainty\",\"Ten-year Anomaly\",\"Ten-year Uncertainty\",\"Twenty-year Anomaly\",\"Twenty-year Uncertainty\"]);\n",
    "    data[\"YearT\"]=pd.to_datetime(data[[\"Year\"]].assign(day=1,month=1));\n",
    "    temperature=open(file, 'r');\n",
    "    absolute_temp=re.findall(r'Estimated Jan 1951-Dec 1980 absolute temperature \\(C\\): (-?\\d+\\.\\d+) \\+\\/- (\\d+\\.\\d+)',str(temperature.read()));\n",
    "    temperature.close();\n",
    "    data[\"Total Temperature\"]=data[\"Annual Anomaly\"]+float(absolute_temp[0][0]);\n",
    "    dataJune = data[data[\"Month\"]==6];\n",
    "    return dataJune[\"Annual Anomaly\"][-101:]"
   ]
  },
  {
   "cell_type": "code",
   "execution_count": 18,
   "id": "dd603fe3",
   "metadata": {},
   "outputs": [],
   "source": [
    "def getYears():\n",
    "    data = pd.read_csv('data/afghanistan.txt', sep=\"\\s+\",engine='python', comment = \"%\", names=[\"Year\",\"Month\",\"Monthly Anomaly\",\"Monthly Uncertainty\",\"Annual Anomaly\",\"Annual Uncertainty\",\"Five-year Anomaly\",\"Five-year Uncertainty\",\"Ten-year Anomaly\",\"Ten-year Uncertainty\",\"Twenty-year Anomaly\",\"Twenty-year Uncertainty\"]);\n",
    "    temperature=open('data/afghanistan.txt', 'r');\n",
    "    absolute_temp=re.findall(r'Estimated Jan 1951-Dec 1980 absolute temperature \\(C\\): (-?\\d+\\.\\d+) \\+\\/- (\\d+\\.\\d+)',str(temperature.read()));\n",
    "    temperature.close();\n",
    "    dataJune = data[data[\"Month\"]==6];\n",
    "    return dataJune[\"Year\"][-101:]"
   ]
  },
  {
   "cell_type": "code",
   "execution_count": 19,
   "id": "b858d587",
   "metadata": {},
   "outputs": [],
   "source": [
    "def generateOverview():\n",
    "    countryData = [];\n",
    "    #countryData.append(getYears());\n",
    "    for country in os.listdir('data/'):\n",
    "        if not (country == '.ipynb_checkpoints'):\n",
    "            countryData.append(loadCountry('data/' + country));\n",
    "    df = pd.DataFrame(data=np.array(countryData),columns=getYears());\n",
    "    files = os.listdir('data/');\n",
    "    #files.remove('.ipynb_checkpoints');\n",
    "    files = [os.path.splitext(filename)[0] for filename in files]\n",
    "    df.index = files;\n",
    "    df.to_csv('overview.csv',sep=',');"
   ]
  },
  {
   "cell_type": "code",
   "execution_count": 20,
   "id": "99bf711f",
   "metadata": {},
   "outputs": [],
   "source": [
    "generateOverview()"
   ]
  },
  {
   "cell_type": "code",
   "execution_count": null,
   "id": "43f29fd9",
   "metadata": {},
   "outputs": [],
   "source": []
  }
 ],
 "metadata": {
  "kernelspec": {
   "display_name": "Python 3 (ipykernel)",
   "language": "python",
   "name": "python3"
  },
  "language_info": {
   "codemirror_mode": {
    "name": "ipython",
    "version": 3
   },
   "file_extension": ".py",
   "mimetype": "text/x-python",
   "name": "python",
   "nbconvert_exporter": "python",
   "pygments_lexer": "ipython3",
   "version": "3.9.7"
  }
 },
 "nbformat": 4,
 "nbformat_minor": 5
}
